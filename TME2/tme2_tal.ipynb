{
 "cells": [
  {
   "cell_type": "markdown",
   "metadata": {},
   "source": [
    "# Traitement Automatique de la Langue - TME2\n",
    "\n"
   ]
  },
  {
   "cell_type": "markdown",
   "metadata": {},
   "source": [
    "## POS tagging, analyse des phrases\n",
    "\n"
   ]
  },
  {
   "cell_type": "code",
   "execution_count": 12,
   "metadata": {
    "collapsed": true
   },
   "outputs": [],
   "source": [
    "import matplotlib.pyplot as plt\n",
    "import numpy as np\n",
    "%matplotlib inline"
   ]
  },
  {
   "cell_type": "code",
   "execution_count": 75,
   "metadata": {
    "collapsed": false
   },
   "outputs": [
    {
     "name": "stdout",
     "output_type": "stream",
     "text": [
      "823  docs read\n",
      "77  docs (T) read\n"
     ]
    }
   ],
   "source": [
    "def load(filename):\n",
    "    listeDoc = list()\n",
    "    with open(filename, \"r\") as f:\n",
    "        doc = list()\n",
    "        for ligne in f:\n",
    "            #print \"l : \",len(ligne),\" \",ligne\n",
    "            if len(ligne) < 2: # fin de doc\n",
    "                listeDoc.append(doc)\n",
    "                doc = list()\n",
    "                continue\n",
    "            mots = ligne.split(\" \")\n",
    "            doc.append((mots[0],mots[1]))\n",
    "    return listeDoc\n",
    "\n",
    "# =============== chargement ============\n",
    "filename = \"data/wapiti/chtrain.txt\" # a modifier\n",
    "filenameT = \"data/wapiti/chtest.txt\" # a modifier\n",
    "\n",
    "alldocs = load(filename)\n",
    "alldocsT = load(filenameT)\n",
    "\n",
    "print len(alldocs),\" docs read\"\n",
    "print len(alldocsT),\" docs (T) read\""
   ]
  },
  {
   "cell_type": "markdown",
   "metadata": {},
   "source": [
    "## Approche à base de dictionnaire"
   ]
  },
  {
   "cell_type": "code",
   "execution_count": 26,
   "metadata": {
    "collapsed": false
   },
   "outputs": [
    {
     "name": "stdout",
     "output_type": "stream",
     "text": [
      "463\n"
     ]
    }
   ],
   "source": [
    "def naive_fit(docs):\n",
    "    tags=dict()\n",
    "    for doc in docs:\n",
    "        for word in doc:\n",
    "            tags[word[0]]=word[1]\n",
    "    return tags\n",
    "\n",
    "def naive_score(docs,tags):\n",
    "    error=sum([1 if(tags.setdefault(w[0],0)!=w[1]) else 0 for doc in alldocsT for i,w in enumerate(doc)])\n",
    "    nb_docs=len([True for doc in alldocsT for w in doc])\n",
    "    return nb_docs-error,1-float(error)/nb_docs\n",
    " \n",
    "tags=naive_fit(alldocs)\n",
    "#print naive_score(alldocsT,tags)\n",
    "           "
   ]
  },
  {
   "cell_type": "markdown",
   "metadata": {},
   "source": [
    "##  Méthodes séquentielles"
   ]
  },
  {
   "cell_type": "code",
   "execution_count": 4,
   "metadata": {
    "collapsed": true
   },
   "outputs": [],
   "source": [
    "# allx: liste de séquences d'observations\n",
    "# allq: liste de séquences d'états\n",
    "# N: nb états\n",
    "# K: nb observation\n",
    "\n",
    "def learnHMM(allx, allq, N, K, initTo1=True):\n",
    "    if initTo1:\n",
    "        eps = 1e-5\n",
    "        A = np.ones((N,N))*eps\n",
    "        B = np.ones((N,K))*eps\n",
    "        Pi = np.ones(N)*eps\n",
    "    else:\n",
    "        A = np.zeros((N,N))\n",
    "        B = np.zeros((N,K))\n",
    "        Pi = np.zeros(N)\n",
    "    for x,q in zip(allx,allq):\n",
    "        Pi[int(q[0])] += 1\n",
    "        for i in range(len(q)-1):\n",
    "            A[int(q[i]),int(q[i+1])] += 1\n",
    "            B[int(q[i]),int(x[i])] += 1\n",
    "        B[int(q[-1]),int(x[-1])] += 1 # derniere transition\n",
    "    A = A/np.maximum(A.sum(1).reshape(N,1),1) # normalisation\n",
    "    B = B/np.maximum(B.sum(1).reshape(N,1),1) # normalisation\n",
    "    Pi = Pi/Pi.sum()\n",
    "    return Pi , A, B\n",
    "\n",
    "def viterbi(x,Pi,A,B):\n",
    "    T = len(x)\n",
    "    N = len(Pi)\n",
    "    logA = np.log(A)\n",
    "    logB = np.log(B)\n",
    "    logdelta = np.zeros((N,T))\n",
    "    psi = np.zeros((N,T), dtype=int)\n",
    "    S = np.zeros(T)\n",
    "    logdelta[:,0] = np.log(Pi) + logB[:,x[0]]\n",
    "    #forward\n",
    "    for t in range(1,T):\n",
    "        logdelta[:,t] = (logdelta[:,t-1].reshape(N,1) + logA).max(0) + logB[:,x[t]]\n",
    "        psi[:,t] = (logdelta[:,t-1].reshape(N,1) + logA).argmax(0)\n",
    "    # backward\n",
    "    logp = logdelta[:,-1].max()\n",
    "    S[T-1] = logdelta[:,-1].argmax()\n",
    "    for i in range(2,T+1):\n",
    "        S[T-i] = psi[S[T-i+1],T-i+1]\n",
    "    return S, logp #, delta, psi"
   ]
  },
  {
   "cell_type": "markdown",
   "metadata": {},
   "source": [
    "### Mise en forme des données\n",
    "\n"
   ]
  },
  {
   "cell_type": "code",
   "execution_count": 5,
   "metadata": {
    "collapsed": false
   },
   "outputs": [
    {
     "name": "stdout",
     "output_type": "stream",
     "text": [
      "4570 42  in the dictionary\n"
     ]
    }
   ],
   "source": [
    "# alldocs etant issu du chargement des données\n",
    "\n",
    "buf = [[m for m,c in d ] for d in alldocs]\n",
    "mots = []\n",
    "[mots.extend(b) for b in buf]\n",
    "mots = np.unique(np.array(mots))\n",
    "nMots = len(mots)+1 # mot inconnu\n",
    "\n",
    "mots2ind = dict(zip(mots,range(len(mots))))\n",
    "mots2ind[\"UUUUUUUU\"] = len(mots)\n",
    "\n",
    "buf2 = [[c for m,c in d ] for d in alldocs]\n",
    "cles = []\n",
    "[cles.extend(b) for b in buf2]\n",
    "cles = np.unique(np.array(cles))\n",
    "cles2ind = dict(zip(cles,range(len(cles))))\n",
    "\n",
    "nCles = len(cles)\n",
    "\n",
    "print nMots,nCles,\" in the dictionary\"\n",
    "\n",
    "# mise en forme des données\n",
    "allx  = [[mots2ind[m] for m,c in d] for d in alldocs]\n",
    "allxT = [[mots2ind.setdefault(m,len(mots)) for m,c in d] for d in alldocsT]\n",
    "\n",
    "allq  = [[cles2ind[c] for m,c in d] for d in alldocs]\n",
    "allqT = [[cles2ind.setdefault(c,len(cles)) for m,c in d] for d in alldocsT]"
   ]
  },
  {
   "cell_type": "markdown",
   "metadata": {},
   "source": [
    "### Application"
   ]
  },
  {
   "cell_type": "code",
   "execution_count": 6,
   "metadata": {
    "collapsed": false,
    "scrolled": true
   },
   "outputs": [
    {
     "name": "stderr",
     "output_type": "stream",
     "text": [
      "/usr/local/lib/python2.7/dist-packages/ipykernel/__main__.py:44: DeprecationWarning: using a non-integer number instead of an integer will result in an error in the future\n",
      "/usr/local/lib/python2.7/dist-packages/ipykernel/__main__.py:13: DeprecationWarning: using a non-integer number instead of an integer will result in an error in the future\n"
     ]
    },
    {
     "name": "stdout",
     "output_type": "stream",
     "text": [
      "Taux de classif avec HMM: 81.0126582278% de reussite\n"
     ]
    }
   ],
   "source": [
    "Pi,A,B=learnHMM(allx,allq,nCles,nMots)\n",
    "tags=list()\n",
    "for doc in allxT: \n",
    "    tag,logp=viterbi(doc,Pi,A,B)\n",
    "    tags.append(list(tag))\n",
    "\n",
    "err=0\n",
    "nb_w=0\n",
    "hmm_conf=np.zeros((nCles,nCles))\n",
    "for d in range(len(allqT)):\n",
    "    for i in range(len(allqT[d])):\n",
    "        if(allqT[d][i]!=tags[d][i]):\n",
    "            hmm_conf[allqT[d][i]-1][tags[d][i]-1]+=1\n",
    "            err+=1\n",
    "        nb_w+=1\n",
    "        \n",
    "print 'Taux de classif avec HMM: '+str((1.-(float(err)/nb_w))*100)+'% de reussite'"
   ]
  },
  {
   "cell_type": "code",
   "execution_count": 7,
   "metadata": {
    "collapsed": false
   },
   "outputs": [
    {
     "data": {
      "image/png": "[encoded data removed]",
      "text/plain": [
       "<matplotlib.figure.Figure at 0x7fca01421e50>"
      ]
     },
     "metadata": {},
     "output_type": "display_data"
    }
   ],
   "source": [
    "plt.figure(figsize=(12,12))\n",
    "plt.imshow(hmm_conf, interpolation='None')\n",
    "localLabs = cles # liste des POS-TAG\n",
    "plt.yticks(range(len(localLabs)),localLabs) # affichage sur l'image\n",
    "plt.xticks(range(len(localLabs)),localLabs) # affichage sur l'image\n",
    "plt.show()"
   ]
  },
  {
   "cell_type": "markdown",
   "metadata": {
    "collapsed": true
   },
   "source": [
    "### Matrice de confusion de l'approche a base de dictionnaire"
   ]
  },
  {
   "cell_type": "code",
   "execution_count": 56,
   "metadata": {
    "collapsed": false
   },
   "outputs": [
    {
     "name": "stdout",
     "output_type": "stream",
     "text": [
      "463\n"
     ]
    }
   ],
   "source": [
    "err=0\n",
    "nb_cles=len(np.unique([i[1] for d in alldocs for i in d]))\n",
    "naive_conf=np.zeros((nb_cles,nb_cles))\n",
    "for doc in alldocsT:\n",
    "    for w in doc:\n",
    "        t=tags.setdefault(w[0],0)\n",
    "        if(t!=w[1]):\n",
    "            err+=1\n",
    "            if(t!=0):\n",
    "                naive_conf[np.where(w[1]==cles)[0][0]][np.where(tags[w[0]]==cles)[0][0]]+=1\n",
    "print err"
   ]
  },
  {
   "cell_type": "code",
   "execution_count": 57,
   "metadata": {
    "collapsed": false
   },
   "outputs": [
    {
     "data": {
      "image/png": "[encoded data removed]",
      "text/plain": [
       "<matplotlib.figure.Figure at 0x7fca00bb67d0>"
      ]
     },
     "metadata": {},
     "output_type": "display_data"
    }
   ],
   "source": [
    "tags=naive_fit(alldocs)\n",
    "plt.figure(figsize=(12,12))\n",
    "plt.imshow(naive_conf, interpolation='None')\n",
    "localLabs = cles # liste des POS-TAG\n",
    "plt.yticks(range(len(localLabs)),localLabs) # affichage sur l'image\n",
    "plt.xticks(range(len(localLabs)),localLabs) # affichage sur l'image\n",
    "plt.show()"
   ]
  },
  {
   "cell_type": "code",
   "execution_count": null,
   "metadata": {
    "collapsed": true
   },
   "outputs": [],
   "source": []
  },
  {
   "cell_type": "markdown",
   "metadata": {},
   "source": [
    "### Modfile pour wapiti"
   ]
  },
  {
   "cell_type": "code",
   "execution_count": 88,
   "metadata": {
    "collapsed": false
   },
   "outputs": [],
   "source": [
    "f_doc=[w[0] for d in alldocsT for w in d]\n",
    "f=open(\"chtest_wapiti.txt\",\"w\")\n",
    "for w in f_doc:\n",
    "    f.write(w+'\\n')\n",
    "f.close()"
   ]
  },
  {
   "cell_type": "markdown",
   "metadata": {},
   "source": [
    "### Script pour comparer avec wapiti"
   ]
  },
  {
   "cell_type": "code",
   "execution_count": 99,
   "metadata": {
    "collapsed": false
   },
   "outputs": [
    {
     "name": "stdout",
     "output_type": "stream",
     "text": [
      "Taux de classif wapiti:95.9915611814%\n",
      "\n"
     ]
    }
   ],
   "source": [
    "#open\n",
    "wap=list()\n",
    "with open(\"Wapiti/out.txt\",'r') as f2:\n",
    "    for line in f2:\n",
    "        wap.append(line.split())\n",
    "doc_mod=[w for d in alldocsT for w in d]\n",
    "err=0\n",
    "total=0\n",
    "for i in range(len(doc_mod)):\n",
    "    if(doc_mod[i][0]!=wap[i][0]):\n",
    "        print 'Erreur!!'\n",
    "    if(doc_mod[i][1]!=wap[i][1]):\n",
    "        err+=1\n",
    "    total+=1\n",
    "print 'Taux de classif wapiti:'+str((1-float(err)/total)*100)+'%\\n'"
   ]
  }
 ],
 "metadata": {
  "kernelspec": {
   "display_name": "Python 2",
   "language": "python",
   "name": "python2"
  },
  "language_info": {
   "codemirror_mode": {
    "name": "ipython",
    "version": 2
   },
   "file_extension": ".py",
   "mimetype": "text/x-python",
   "name": "python",
   "nbconvert_exporter": "python",
   "pygments_lexer": "ipython2",
   "version": "2.7.11"
  }
 },
 "nbformat": 4,
 "nbformat_minor": 0
}
